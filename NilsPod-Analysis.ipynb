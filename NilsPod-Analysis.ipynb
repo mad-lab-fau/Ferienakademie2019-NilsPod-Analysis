{
 "cells": [
  {
   "cell_type": "markdown",
   "metadata": {
    "Collapsed": "false"
   },
   "source": [
    "### \"Quick 'n' Dirty\" NilsPod Analysis"
   ]
  },
  {
   "cell_type": "code",
   "execution_count": null,
   "metadata": {
    "Collapsed": "false"
   },
   "outputs": [],
   "source": [
    "import matplotlib.pyplot as plt\n",
    "from pathlib import Path\n",
    "import numpy as np\n",
    "import pandas as pd\n",
    "from scipy import signal\n",
    "import os\n",
    "import warnings\n",
    "warnings.filterwarnings(\"ignore\")\n",
    "\n",
    "from NilsPodLib import Dataset, Session, SyncedSession, calibration_utils\n",
    "\n",
    "%load_ext autoreload\n",
    "%autoreload 2\n",
    "%matplotlib widget\n",
    "is_calibrated = False"
   ]
  },
  {
   "cell_type": "markdown",
   "metadata": {
    "Collapsed": "false"
   },
   "source": [
    "### Get path and list files"
   ]
  },
  {
   "cell_type": "code",
   "execution_count": null,
   "metadata": {
    "Collapsed": "false"
   },
   "outputs": [],
   "source": [
    "p = Path(\"../NilsPod-Data/20190924/Janis\")\n",
    "files = [x for x in sorted(p.iterdir()) if x.is_file() and x.suffix == '.bin']\n",
    "\n",
    "display([x.name for x in files])\n",
    "file = files[0]"
   ]
  },
  {
   "cell_type": "markdown",
   "metadata": {
    "Collapsed": "false"
   },
   "source": [
    "### Load Dataset and display some information"
   ]
  },
  {
   "cell_type": "code",
   "execution_count": null,
   "metadata": {
    "Collapsed": "false"
   },
   "outputs": [],
   "source": [
    "ds = Dataset.from_bin_file(file)\n",
    "is_calibrated = False\n",
    "\n",
    "display(ds.info.utc_datetime_start.strftime(\"%H:%M:%S\"))\n",
    "display(ds.info.utc_datetime_stop.strftime(\"%H:%M:%S\"))\n",
    "display(ds.info.sampling_rate_hz)\n",
    "display(ds.info.n_samples)\n",
    "display(ds.info.duration_s)\n",
    "display(ds.info.enabled_sensors)\n",
    "# convert duration from number of samples (as check)\n",
    "display(\"{:.2f} h\".format((ds.info.n_samples / 51.2) / 3600))"
   ]
  },
  {
   "cell_type": "markdown",
   "metadata": {
    "Collapsed": "false"
   },
   "source": [
    "### Apply Factory Calibration to IMU and Barometer"
   ]
  },
  {
   "cell_type": "code",
   "execution_count": null,
   "metadata": {
    "Collapsed": "false"
   },
   "outputs": [],
   "source": [
    "if not is_calibrated:\n",
    "    ds.factory_calibrate_imu(inplace=True)\n",
    "    ds.factory_calibrate_baro(inplace=True)\n",
    "    ds.factory_calibrate_temperature(inplace=True)\n",
    "    is_calibrated = True"
   ]
  },
  {
   "cell_type": "markdown",
   "metadata": {
    "Collapsed": "false"
   },
   "source": [
    "### Localize and Convert Timestamp"
   ]
  },
  {
   "cell_type": "code",
   "execution_count": null,
   "metadata": {
    "Collapsed": "false"
   },
   "outputs": [],
   "source": [
    "df = ds.data_as_df(index='utc_datetime')\n",
    "df = df.tz_localize(\"UTC\").tz_convert(\"Europe/Berlin\")"
   ]
  },
  {
   "cell_type": "markdown",
   "metadata": {
    "Collapsed": "false"
   },
   "source": [
    "### Compute Acc and Gyro Norm"
   ]
  },
  {
   "cell_type": "code",
   "execution_count": null,
   "metadata": {
    "Collapsed": "false"
   },
   "outputs": [],
   "source": [
    "acc_norm = pd.DataFrame(index=df.index, data=np.linalg.norm(df.filter(like=\"acc\"), axis=1), columns=['acc_norm'])\n",
    "gyro_norm = pd.DataFrame(index=df.index, data=np.linalg.norm(df.filter(like=\"gyr\"), axis=1), columns=['gyro_norm'])"
   ]
  },
  {
   "cell_type": "code",
   "execution_count": null,
   "metadata": {
    "Collapsed": "false"
   },
   "outputs": [],
   "source": [
    "from biosppy import signals"
   ]
  },
  {
   "cell_type": "code",
   "execution_count": null,
   "metadata": {
    "Collapsed": "false"
   },
   "outputs": [],
   "source": [
    "ecg = signals.ecg.ecg(df['ecg'], sampling_rate=256.0, show=False)\n",
    "\n",
    "pd.DataFrame(ecg[1]).plot()"
   ]
  },
  {
   "cell_type": "markdown",
   "metadata": {
    "Collapsed": "false"
   },
   "source": [
    "### Convert Atmospheric Pressure to Altitude (rough estimate)"
   ]
  },
  {
   "cell_type": "code",
   "execution_count": null,
   "metadata": {
    "Collapsed": "false"
   },
   "outputs": [],
   "source": [
    "df = baro_to_altitude(df)\n",
    "baro = df.filter(like=\"baro\")\n",
    "alt = df.filter(like=\"alt\")"
   ]
  },
  {
   "cell_type": "markdown",
   "metadata": {
    "Collapsed": "false"
   },
   "source": [
    "### Plot Raw Data"
   ]
  },
  {
   "cell_type": "code",
   "execution_count": null,
   "metadata": {
    "Collapsed": "false"
   },
   "outputs": [],
   "source": [
    "plt.close('all')\n",
    "fig, axs = plt.subplots(nrows=3, ncols=1, sharex=True)\n",
    "fig.suptitle('Hike 24/09/2019 – Raw Data')\n",
    "axs[0].set_xlabel('Time')\n",
    "axs[-1].set_xlabel('Time')\n",
    "axs[1].set_xlabel('Time')\n",
    "axs[0].set_ylabel('Acc Norm [$m/s^2$]')\n",
    "axs[-1].set_ylabel('Altitude [m]')\n",
    "axs[0].plot(acc_norm)\n",
    "axs[-1].plot(alt)\n",
    "axs[1].set_ylabel('Temp [°C]')\n",
    "axs[1].plot(df.filter(like=\"temp\"))\n",
    "\n",
    "#axs[1].plot(gyro_mean)\n",
    "\n",
    "#fig.tight_layout()\n",
    "plt.show()"
   ]
  },
  {
   "cell_type": "markdown",
   "metadata": {
    "Collapsed": "false"
   },
   "source": [
    "### Apply some filtering, windowing, etc"
   ]
  },
  {
   "cell_type": "code",
   "execution_count": null,
   "metadata": {
    "Collapsed": "false"
   },
   "outputs": [],
   "source": [
    "acc_filt_20 = rolling_mean(acc_norm, 20)\n",
    "acc_filt_50 = rolling_mean(acc_norm, 50)"
   ]
  },
  {
   "cell_type": "code",
   "execution_count": null,
   "metadata": {
    "Collapsed": "false"
   },
   "outputs": [],
   "source": []
  },
  {
   "cell_type": "code",
   "execution_count": null,
   "metadata": {
    "Collapsed": "false"
   },
   "outputs": [],
   "source": [
    "gyro_mean = get_windows(gyro_norm, window=200, overlap=0).mean(axis=1)"
   ]
  },
  {
   "cell_type": "code",
   "execution_count": null,
   "metadata": {
    "Collapsed": "false"
   },
   "outputs": [],
   "source": [
    "thres_gyro = 200\n",
    "gyro_thres = gyro_mean.copy()\n",
    "gyro_thres[gyro_thres < thres_gyro] = 0\n",
    "gyro_thres[gyro_thres >= thres_gyro] = 1"
   ]
  },
  {
   "cell_type": "code",
   "execution_count": null,
   "metadata": {
    "Collapsed": "false"
   },
   "outputs": [],
   "source": [
    "fig, ax = plt.subplots()\n",
    "ax.plot(acc_norm, label='raw', alpha=0.5)\n",
    "ax.plot(acc_filt_20, label='filtered [ma, 20]', alpha=0.8)\n",
    "ax.plot(acc_filt_50, label='filtered [ma, 50]')\n",
    "ax.set_xlabel('Time')\n",
    "ax.set_ylabel('Acc Norm $[m/s^2]$')\n",
    "ax.legend(loc='upper right');"
   ]
  },
  {
   "cell_type": "markdown",
   "metadata": {
    "Collapsed": "false"
   },
   "source": [
    "### Filter Barometer Data"
   ]
  },
  {
   "cell_type": "code",
   "execution_count": null,
   "metadata": {
    "Collapsed": "false"
   },
   "outputs": [],
   "source": [
    "df_baro = rolling_mean(baro, window_size=512)"
   ]
  },
  {
   "cell_type": "code",
   "execution_count": null,
   "metadata": {
    "Collapsed": "false"
   },
   "outputs": [],
   "source": [
    "b, a = signal.butter(N=5, Wn=0.1, fs=ds.info.sampling_rate_hz, btype='low')\n",
    "baro_filt = signal.filtfilt(b, a, df_baro.iloc[:,0])\n",
    "\n",
    "df_baro['baro_filt'] = baro_filt"
   ]
  },
  {
   "cell_type": "code",
   "execution_count": null,
   "metadata": {
    "Collapsed": "false"
   },
   "outputs": [],
   "source": [
    "df_baro.plot()"
   ]
  },
  {
   "cell_type": "code",
   "execution_count": null,
   "metadata": {
    "Collapsed": "false"
   },
   "outputs": [],
   "source": [
    "window = 256\n",
    "\n",
    "baro_wind = get_windows(df_baro['baro_filt'], window=window, overlap=0)"
   ]
  },
  {
   "cell_type": "code",
   "execution_count": null,
   "metadata": {
    "Collapsed": "false"
   },
   "outputs": [],
   "source": [
    "baro_dir = pd.DataFrame(baro_wind.sub(baro_wind.iloc[:,0], axis='rows').sum(axis='columns'))\n",
    "baro_sign = np.sign(baro_dir)"
   ]
  },
  {
   "cell_type": "code",
   "execution_count": null,
   "metadata": {
    "Collapsed": "false"
   },
   "outputs": [],
   "source": [
    "baro_idx = baro_std.index[::1]\n",
    "activity = baro_thres[::1]\n",
    "altitude = alt[::1]"
   ]
  },
  {
   "cell_type": "code",
   "execution_count": null,
   "metadata": {
    "Collapsed": "false"
   },
   "outputs": [],
   "source": [
    "baro_std = pd.DataFrame(baro_wind.std(axis=1) / window * 1e3)"
   ]
  },
  {
   "cell_type": "code",
   "execution_count": null,
   "metadata": {
    "Collapsed": "false"
   },
   "outputs": [],
   "source": [
    "baro_thres = baro_std.copy()\n",
    "thres = 0.05\n",
    "baro_thres[(baro_std > thres) & (baro_sign > 0)] = 1\n",
    "baro_thres[(baro_std > thres) & (baro_sign < 0)] = -1\n",
    "baro_thres[baro_std <= thres] = 0"
   ]
  },
  {
   "cell_type": "code",
   "execution_count": null,
   "metadata": {
    "Collapsed": "false"
   },
   "outputs": [],
   "source": [
    "fig, ax = plt.subplots()\n",
    "ax.set_xlabel('Time')\n",
    "ax.set_ylabel('Altitude [m]')\n",
    "ax.plot(altitude, linewidth=3)\n",
    "ax.set_zorder(10)\n",
    "ax.patch.set_visible(False)\n",
    "\n",
    "#asc = np.where(activity.iloc[:,0] == -1)[0]\n",
    "#idx_asc = np.where(np.diff(asc) > 1)[0]\n",
    "#idx_asc = zip(np.pad(idx_asc, pad_width=(1,0), mode='edge'), idx_asc)\n",
    "\n",
    "ax_t = ax.twinx()\n",
    "ax_t.fill_between(baro_idx, y1=0, y2=1, where=(activity.iloc[:,0] == -1), interpolate=True, facecolor='green', alpha=0.3, label=\"Ascending\")\n",
    "ax_t.fill_between(baro_idx, y1=0, y2=1, where=(activity.iloc[:,0] == 1), interpolate=True, facecolor='orange', alpha=0.3, label=\"Descending\")\n",
    "ax_t.fill_between(baro_idx, y1=0, y2=1, where=(activity.iloc[:,0] == 0), interpolate=True, facecolor='blue', alpha=0.3, label=\"Resting\")\n",
    "\n",
    "#for x1,x2 in idx_asc:\n",
    "#    ax_t.axvspan(baro_idx[x1], baro_idx[x2], facecolor='green', alpha = 0.1)\n",
    "\n",
    "ax_t.get_yaxis().set_visible(False)\n",
    "\n",
    "fig.legend(loc=\"upper right\")\n",
    "fig.tight_layout()"
   ]
  },
  {
   "cell_type": "markdown",
   "metadata": {
    "Collapsed": "false"
   },
   "source": [
    "### Get Stats"
   ]
  },
  {
   "cell_type": "code",
   "execution_count": null,
   "metadata": {
    "Collapsed": "false"
   },
   "outputs": [],
   "source": [
    "vals, counts = np.unique(baro_thres, return_counts=True)\n",
    "\n",
    "display(\"Ascending: {:.2f} %\".format(100.0 * (counts[0] / len(baro_thres))))\n",
    "display(\"Resting: {:.2f} %\".format(100.0 * (counts[1] / len(baro_thres))))\n",
    "display(\"Descending: {:.2f} %\".format(100.0 * (counts[2] / len(baro_thres))))"
   ]
  },
  {
   "cell_type": "markdown",
   "metadata": {
    "Collapsed": "false"
   },
   "source": [
    "#### Helper Functions"
   ]
  },
  {
   "cell_type": "code",
   "execution_count": null,
   "metadata": {
    "Collapsed": "false"
   },
   "outputs": [],
   "source": [
    "def baro_to_altitude(df: pd.DataFrame) -> pd.DataFrame:\n",
    "    df.loc[:, 'altitude'] = 44330 * (1.0 - (df.loc[:, 'baro'] / 1013.0) ** 0.1903)\n",
    "    return df"
   ]
  },
  {
   "cell_type": "code",
   "execution_count": null,
   "metadata": {
    "Collapsed": "false"
   },
   "outputs": [],
   "source": [
    "def rolling_mean(df: pd.DataFrame, window_size: int) -> pd.DataFrame:\n",
    "    return df.rolling(window_size, min_periods=1).mean()"
   ]
  },
  {
   "cell_type": "code",
   "execution_count": null,
   "metadata": {
    "Collapsed": "false"
   },
   "outputs": [],
   "source": []
  },
  {
   "cell_type": "code",
   "execution_count": null,
   "metadata": {
    "Collapsed": "false"
   },
   "outputs": [],
   "source": [
    "def get_windows(df, window: int, overlap: int) -> np.ndarray:\n",
    "    window_step = window - overlap\n",
    "    if isinstance(df, pd.DataFrame):\n",
    "        arr = df.iloc[:,0].to_numpy()\n",
    "    else:\n",
    "        arr = df\n",
    "    new_shape = arr.shape[:-1] + ((arr.shape[-1] - overlap) // window_step, window)\n",
    "    new_strides = (arr.strides[:-1] + (window_step * arr.strides[-1],) + arr.strides[-1:])\n",
    "    arr_new = np.lib.stride_tricks.as_strided(arr, shape=new_shape, strides=new_strides)\n",
    "    return pd.DataFrame(data=arr_new, index=df.index[::window_step][1:])"
   ]
  },
  {
   "cell_type": "code",
   "execution_count": null,
   "metadata": {
    "Collapsed": "false"
   },
   "outputs": [],
   "source": []
  }
 ],
 "metadata": {
  "kernelspec": {
   "display_name": "Python 3",
   "language": "python",
   "name": "python3"
  },
  "language_info": {
   "codemirror_mode": {
    "name": "ipython",
    "version": 3
   },
   "file_extension": ".py",
   "mimetype": "text/x-python",
   "name": "python",
   "nbconvert_exporter": "python",
   "pygments_lexer": "ipython3",
   "version": "3.6.9"
  }
 },
 "nbformat": 4,
 "nbformat_minor": 4
}
